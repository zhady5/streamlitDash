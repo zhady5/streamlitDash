{
 "cells": [
  {
   "cell_type": "code",
   "execution_count": 1,
   "id": "bb282dde-1101-47f2-949b-64e98b11ff4c",
   "metadata": {},
   "outputs": [],
   "source": [
    "#!pip show math\n",
    "#!python --version\n",
    "#!pip --version\n",
    "#!conda list\n",
    "#!pip install pip-tools\n",
    "#!pip-compile requirements.in\n",
    "#!pip show base64"
   ]
  },
  {
   "cell_type": "raw",
   "id": "7041c6f0-5356-4d57-b3a8-bb7d6d6c3243",
   "metadata": {},
   "source": [
    "numpy == 1.26.4\n",
    "pandas = 2.2.2\n",
    "babel == 2.11.0\n",
    "nltk == 3.9.1\n",
    "plotly == 5.24.1\n",
    "dash == 2.18.2\n",
    "IPython == 8.27.0"
   ]
  },
  {
   "cell_type": "code",
   "execution_count": 3,
   "id": "af650125-5bff-436b-9f34-9a7288a82d8b",
   "metadata": {},
   "outputs": [
    {
     "data": {
      "text/html": [
       "\n",
       "        <iframe\n",
       "            width=\"100%\"\n",
       "            height=\"650\"\n",
       "            src=\"http://127.0.0.1:8080/\"\n",
       "            frameborder=\"0\"\n",
       "            allowfullscreen\n",
       "            \n",
       "        ></iframe>\n",
       "        "
      ],
      "text/plain": [
       "<IPython.lib.display.IFrame at 0x260322cb160>"
      ]
     },
     "metadata": {},
     "output_type": "display_data"
    }
   ],
   "source": [
    "import os\n",
    "import sys\n",
    "import logging\n",
    "from dash import Dash\n",
    "import dash_bootstrap_components as dbc\n",
    "from flask import Flask\n",
    "\n",
    "# Set up logging\n",
    "logging.basicConfig(level=logging.INFO)\n",
    "logger = logging.getLogger(__name__)\n",
    "\n",
    "try:\n",
    "    from layouts import create_layout\n",
    "    from callbacks import register_callbacks\n",
    "    from data_processing import load_data, process_data\n",
    "except ImportError as e:\n",
    "    logger.error(f\"Error importing modules: {e}\")\n",
    "    sys.exit(1)\n",
    "\n",
    "# Initialize the Flask app\n",
    "server = Flask(__name__)\n",
    "\n",
    "# Initialize the Dash app\n",
    "app = Dash(__name__, server=server, external_stylesheets=[dbc.themes.BOOTSTRAP])\n",
    "\n",
    "try:\n",
    "    # Load and process data\n",
    "    channels, posts, reactions, subscribers, views = load_data()\n",
    "    processed_data = process_data(channels, posts, reactions, subscribers, views)\n",
    "\n",
    "    # Create the app layout\n",
    "    app.layout = create_layout(processed_data)\n",
    "\n",
    "    # Register callbacks\n",
    "    register_callbacks(app, processed_data)\n",
    "except Exception as e:\n",
    "    logger.error(f\"Error setting up the application: {e}\")\n",
    "    app.layout = dbc.Container([\n",
    "        dbc.Alert(\"An error occurred while setting up the application. Please check the logs.\", color=\"danger\")\n",
    "    ])\n",
    "\n",
    "if __name__ == '__main__':\n",
    "    port = int(os.environ.get(\"PORT\", 8080))\n",
    "    app.run_server( port=port, debug=False)"
   ]
  },
  {
   "cell_type": "code",
   "execution_count": 2,
   "id": "2a65e2bf-154c-49e9-a13a-2ffa4ecf33ca",
   "metadata": {},
   "outputs": [
    {
     "name": "stderr",
     "output_type": "stream",
     "text": [
      "[nltk_data] Downloading package brown to\n",
      "[nltk_data]     C:\\Users\\DNS\\AppData\\Roaming\\nltk_data...\n",
      "[nltk_data]   Package brown is already up-to-date!\n"
     ]
    }
   ],
   "source": [
    "import dash\n",
    "\n",
    "from data_processing import  load_data, process_data\n",
    "\n",
    "from functions import date_ago, convert_date, get_gradient_color, get_current_previous_sums, create_table, hex_to_rgb\\\n",
    "                            , interpolate_color, gradient_color_func \\\n",
    "                        , calculate_mean_max_subs, calculate_mean_posts, calculate_mean_views, calculate_mean_reacts\\\n",
    "                        , load_stopwords_from_file\n",
    "\n",
    "from layouts import create_layout\n",
    "from callbacks import register_callbacks"
   ]
  },
  {
   "cell_type": "code",
   "execution_count": 3,
   "id": "7a33b184-3b4f-424d-bd8e-47729c4e59f2",
   "metadata": {},
   "outputs": [],
   "source": [
    "channels, posts, reactions, subscribers, views = load_data()\n",
    "processed_data = process_data(channels, posts, reactions, subscribers, views)"
   ]
  },
  {
   "cell_type": "code",
   "execution_count": 6,
   "id": "4e9fd3b1-25a6-4324-bf98-5662698e7365",
   "metadata": {},
   "outputs": [
    {
     "data": {
      "text/html": [
       "\n",
       "        <iframe\n",
       "            width=\"100%\"\n",
       "            height=\"650\"\n",
       "            src=\"http://127.0.0.1:8050/\"\n",
       "            frameborder=\"0\"\n",
       "            allowfullscreen\n",
       "            \n",
       "        ></iframe>\n",
       "        "
      ],
      "text/plain": [
       "<IPython.lib.display.IFrame at 0x1b289ff3fa0>"
      ]
     },
     "metadata": {},
     "output_type": "display_data"
    }
   ],
   "source": [
    "\n",
    "\n",
    "# Настройка приложения Dash\n",
    "external_stylesheets = [\n",
    "    'https://stackpath.bootstrapcdn.com/bootstrap/4.5.2/css/bootstrap.min.css',\n",
    "    'https://fonts.googleapis.com/css?family=Merriweather|Open+Sans&display=swap',\n",
    "    'Desktop/notebooks/custom-styles.css'\n",
    "]\n",
    "\n",
    "app = dash.Dash(__name__, external_stylesheets=external_stylesheets )\n",
    "# Макет приложения\n",
    "server = app.server\n",
    "\n",
    "app.layout = create_layout(processed_data)\n",
    "register_callbacks(app, processed_data)\n",
    "\n",
    "if __name__ == '__main__':\n",
    "     app.run_server(debug=True)"
   ]
  },
  {
   "cell_type": "code",
   "execution_count": null,
   "id": "ae95832a-56f0-4694-ae55-12c3311dc772",
   "metadata": {},
   "outputs": [],
   "source": [
    "\n"
   ]
  },
  {
   "cell_type": "code",
   "execution_count": null,
   "id": "cfb6cf46-16f1-446c-9f3f-2e4d7926ebc8",
   "metadata": {},
   "outputs": [],
   "source": []
  }
 ],
 "metadata": {
  "kernelspec": {
   "display_name": "myenv",
   "language": "python",
   "name": "myenv"
  },
  "language_info": {
   "codemirror_mode": {
    "name": "ipython",
    "version": 3
   },
   "file_extension": ".py",
   "mimetype": "text/x-python",
   "name": "python",
   "nbconvert_exporter": "python",
   "pygments_lexer": "ipython3",
   "version": "3.10.16"
  }
 },
 "nbformat": 4,
 "nbformat_minor": 5
}
